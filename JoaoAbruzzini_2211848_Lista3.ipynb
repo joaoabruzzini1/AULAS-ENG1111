{
  "nbformat": 4,
  "nbformat_minor": 0,
  "metadata": {
    "colab": {
      "provenance": [],
      "collapsed_sections": [],
      "authorship_tag": "ABX9TyMOV5uHwWQUKmLpqxiGHuR2",
      "include_colab_link": true
    },
    "kernelspec": {
      "name": "python3",
      "display_name": "Python 3"
    },
    "language_info": {
      "name": "python"
    }
  },
  "cells": [
    {
      "cell_type": "markdown",
      "metadata": {
        "id": "view-in-github",
        "colab_type": "text"
      },
      "source": [
        "<a href=\"https://colab.research.google.com/github/joaoabruzzini1/AULAS-ENG1111/blob/main/JoaoAbruzzini_2211848_Lista3.ipynb\" target=\"_parent\"><img src=\"https://colab.research.google.com/assets/colab-badge.svg\" alt=\"Open In Colab\"/></a>"
      ]
    },
    {
      "cell_type": "markdown",
      "source": [
        "**Exercicio:**\n",
        "\n",
        "Escolha uma base de dados disponibilizada no arquivo zipado:\n",
        "\n",
        "1. Salve a base de dados escolhida no seu drive e importe para um notebook do Colab, criando um Dataframe\n",
        "Inspecione as colunas do conjunto de dados (Nome das colunas e tipo de dados)\n",
        "2. Escolha uma coluna com valores numéricos e apague todas as linhas que possuam valor nulo\n",
        "3. Calcule a média desta mesma coluna\n",
        "4. Escolha um critério para eliminar as linhas que possuam valores muito distantes da média e crie um novo Dataframe.\n",
        "5. Crie um novo Dataframe que contenha apenas 5 colunas do conjunto anterior.\n",
        "6. Escolha duas colunas numéricas e crie uma nova coluna que siga a regra: (Coluna A - Coluna B)*número aleatório (entre 0 e 1).\n",
        "7. Embaralhe aleatoriamente o dataframe (índices e valores).\n",
        "8. Ordene o Dataframe seguindo um critério definido por você (Explique o critério)\n",
        "9. Escolha uma coluna numérica e um coluna com strings e utilize a função Groupby para mostrar os totais da  coluna.\n",
        "10. Utilize a função MAPS para fazer algum tipo de substituição no Dataframe (explique)\n",
        "11. Exporte o último Dataframe para um arquivo CSV e salve no seu drive\n",
        "12. Exporte o mesmo Dataframe para um arquivo JSON e salve no seu drive\n",
        "13. Salve o Notebook no seu repositório do Github junto com os arquivos exportados."
      ],
      "metadata": {
        "id": "SJuU3pUVDVmZ"
      }
    },
    {
      "cell_type": "code",
      "source": [
        "#QUESTAO 1\n",
        "\n",
        "import pandas as pd\n",
        "\n",
        "from google.colab import  drive\n",
        "\n",
        "drive.mount('/drive')\n",
        "\n",
        "arquivo = pd.read_csv(\"/drive/MyDrive/class_bank_marketing.csv\")\n",
        "\n",
        "\n",
        "display(arquivo)\n",
        "\n",
        "print (arquivo.info())\n"
      ],
      "metadata": {
        "id": "SNgU3pIsDuA8"
      },
      "execution_count": null,
      "outputs": []
    },
    {
      "cell_type": "code",
      "source": [
        "#QUESTAO 2\n",
        "\n",
        "deletar = arquivo[ arquivo['balance'] == 0 ].index\n",
        "\n",
        "arquivo.drop(deletar, inplace=True)\n",
        "\n",
        "display (arquivo[0:5])"
      ],
      "metadata": {
        "id": "ktc21TO9oMua"
      },
      "execution_count": null,
      "outputs": []
    },
    {
      "cell_type": "code",
      "source": [
        "#QUESTAO 3\n",
        "\n",
        "media = arquivo[\"balance\"].mean()\n",
        "print(media)"
      ],
      "metadata": {
        "id": "GN8d4K762jAO",
        "colab": {
          "base_uri": "https://localhost:8080/"
        },
        "outputId": "669bb51b-0e52-47ed-f816-b6566b66e96a"
      },
      "execution_count": 20,
      "outputs": [
        {
          "output_type": "stream",
          "name": "stdout",
          "text": [
            "1225.6584638329605\n"
          ]
        }
      ]
    },
    {
      "cell_type": "code",
      "source": [
        "#QUESTAO 4\n",
        "\n",
        "elem = arquivo[arquivo['balance'] >= media +1000].index\n",
        "arquivo.drop(elem, inplace = True)\n",
        "\n",
        "elem2 = arquivo[arquivo['balance'] <= media -1000].index\n",
        "arquivo.drop(elem2, inplace = True)\n",
        "\n",
        "display(arquivo['balance'])\n",
        "\n"
      ],
      "metadata": {
        "id": "CmbpsYu12fky"
      },
      "execution_count": null,
      "outputs": []
    },
    {
      "cell_type": "code",
      "source": [
        "#QUESTAO 5\n",
        "\n",
        "a = arquivo[\"age\"]\n",
        "b = arquivo[\"job\"]\n",
        "c = arquivo[\"education\"]\n",
        "d = arquivo[\"balance\"]\n",
        "e = arquivo[\"housing\"]\n",
        "\n",
        "novodf = pd.concat([a,b,c,d,e],axis=1)\n",
        "\n",
        "display (novodf)\n",
        "\n",
        "pd.set_option('display.max_columns', 0)\n",
        "pd.set_option('display.max_rows', 5)\n"
      ],
      "metadata": {
        "id": "ZxHoUR9TFkln"
      },
      "execution_count": null,
      "outputs": []
    },
    {
      "cell_type": "code",
      "source": [
        "#QUESTAO 6\n",
        "\n",
        "import random\n",
        "num = random.randint(0,1000)/1000\n",
        "print (num)\n",
        "\n",
        "arquivo = pd.read_csv(\"/drive/MyDrive/class_bank_marketing.csv\")\n",
        "\n",
        "\n",
        "arquivo['novacol'] = ((arquivo['balance'] - arquivo['age'])//num)\n",
        "\n",
        "display (arquivo)"
      ],
      "metadata": {
        "id": "rfudkBVKJA08"
      },
      "execution_count": null,
      "outputs": []
    },
    {
      "cell_type": "code",
      "source": [
        "#QUESTAO 7 \n",
        "\n",
        "import numpy as np\n",
        "\n",
        "dfmisturado = arquivo.reindex(np.random.permutation(arquivo.index))\n",
        "\n",
        "display (dfmisturado)\n"
      ],
      "metadata": {
        "id": "xG1KibwC9qsb"
      },
      "execution_count": null,
      "outputs": []
    },
    {
      "cell_type": "code",
      "source": [
        "#QUESTAO 8\n",
        "\n",
        "#Ordenar o dataframe por idade (de mais novo para mais velho)\n",
        "\n",
        "\n",
        "arquivo = arquivo.sort_values(by='age', ascending=True)\n",
        "\n",
        "display (arquivo)"
      ],
      "metadata": {
        "id": "1WZ8nJxsBpIj"
      },
      "execution_count": null,
      "outputs": []
    },
    {
      "cell_type": "code",
      "source": [
        "#QUESTAO 9\n",
        "\n",
        "\n",
        "niveleducacao = arquivo.groupby('education')[['education']].count()\n",
        "\n",
        "idade = arquivo.groupby('age')[['age']].count()\n",
        "\n",
        "display (niveleducacao)\n",
        "display (idade)"
      ],
      "metadata": {
        "id": "mJdKAUJYPQ2J"
      },
      "execution_count": null,
      "outputs": []
    },
    {
      "cell_type": "code",
      "source": [
        "#QUESTAO 10\n",
        "\n",
        "arquivo['emprestimo'] = arquivo['loan'].map({'yes': 'esta devendo', 'no': 'nao esta devendo'})\n",
        "\n",
        "display (arquivo['emprestimo'])"
      ],
      "metadata": {
        "id": "mZY7zphIQnxI"
      },
      "execution_count": null,
      "outputs": []
    },
    {
      "cell_type": "code",
      "source": [
        "#QUESTAO 11\n",
        "\n",
        "arquivoemcsv = arquivo.to_csv('arquivolista3.csv')\n"
      ],
      "metadata": {
        "id": "ECec85dwRDtB"
      },
      "execution_count": 28,
      "outputs": []
    },
    {
      "cell_type": "code",
      "source": [
        "#QUESTAO 12\n",
        "\n",
        "json = arquivo.to_json(orient = 'index')"
      ],
      "metadata": {
        "id": "XiyOR7AOSJ4Y"
      },
      "execution_count": 29,
      "outputs": []
    },
    {
      "cell_type": "code",
      "source": [
        "#QUESTAO 13\n",
        "\n"
      ],
      "metadata": {
        "id": "Q49LPVMFyFVk"
      },
      "execution_count": null,
      "outputs": []
    }
  ]
}